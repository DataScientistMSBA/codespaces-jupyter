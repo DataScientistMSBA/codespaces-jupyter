{
  "cells": [
    {
      "cell_type": "markdown",
      "metadata": {
        "id": "TxxJ3qxJgsmF"
      },
      "source": [
        "# PreLoads"
      ]
    },
    {
      "cell_type": "code",
      "execution_count": null,
      "metadata": {
        "colab": {
          "base_uri": "https://localhost:8080/"
        },
        "id": "DWQvEbu1iJze",
        "outputId": "647de50c-ca94-4530-d766-8169883e8739"
      },
      "outputs": [
        {
          "name": "stdout",
          "output_type": "stream",
          "text": [
            "Drive already mounted at /content/drive; to attempt to forcibly remount, call drive.mount(\"/content/drive\", force_remount=True).\n",
            "/content/drive/My Drive/References\n"
          ]
        },
        {
          "name": "stderr",
          "output_type": "stream",
          "text": [
            "/usr/local/lib/python3.8/dist-packages/requests/__init__.py:89: RequestsDependencyWarning: urllib3 (1.26.13) or chardet (3.0.4) doesn't match a supported version!\n",
            "  warnings.warn(\"urllib3 ({}) or chardet ({}) doesn't match a supported \"\n"
          ]
        }
      ],
      "source": [
        "# import the necessary Colab libraries \n",
        "from google.colab import drive \n",
        "from google.colab import files \n",
        "\n",
        "# mount the Google Drive \n",
        "drive.mount(\"/content/drive\") \n",
        "\n",
        "# navigate to the notebook in the Google Drive \n",
        "%cd \"/content/drive/My Drive/References\" \n",
        "\n",
        "# open the notebook \n",
        "%run PreLoads.ipynb"
      ]
    },
    {
      "cell_type": "code",
      "execution_count": null,
      "metadata": {
        "id": "xp4y2ARugsmH"
      },
      "outputs": [],
      "source": [
        "def make_10_digits(list):\n",
        "    for i in range(len(list)):\n",
        "        list[i] = str(list[i])\n",
        "        while len(list[i]) < 10:\n",
        "            list[i] = '0' + list[i]\n",
        "    return list\n"
      ]
    },
    {
      "cell_type": "markdown",
      "metadata": {
        "id": "PbvifvyzgsmI"
      },
      "source": [
        "# Main"
      ]
    },
    {
      "cell_type": "code",
      "execution_count": null,
      "metadata": {
        "colab": {
          "base_uri": "https://localhost:8080/",
          "height": 241
        },
        "id": "EQ6k-DmsgsmJ",
        "outputId": "c064f116-822c-419c-a05c-215e891d69a1"
      },
      "outputs": [
        {
          "name": "stderr",
          "output_type": "stream",
          "text": [
            "100%|██████████| 11663/11663 [00:07<00:00, 1529.15it/s]\n"
          ]
        },
        {
          "name": "stdout",
          "output_type": "stream",
          "text": [
            "11663\n"
          ]
        },
        {
          "data": {
            "text/html": [
              "\n",
              "  <div id=\"df-1303b555-33e2-4717-b007-266622a14613\">\n",
              "    <div class=\"colab-df-container\">\n",
              "      <div>\n",
              "<style scoped>\n",
              "    .dataframe tbody tr th:only-of-type {\n",
              "        vertical-align: middle;\n",
              "    }\n",
              "\n",
              "    .dataframe tbody tr th {\n",
              "        vertical-align: top;\n",
              "    }\n",
              "\n",
              "    .dataframe thead th {\n",
              "        text-align: right;\n",
              "    }\n",
              "</style>\n",
              "<table border=\"1\" class=\"dataframe\">\n",
              "  <thead>\n",
              "    <tr style=\"text-align: right;\">\n",
              "      <th></th>\n",
              "      <th>CIK</th>\n",
              "      <th>Ticker</th>\n",
              "      <th>Company</th>\n",
              "    </tr>\n",
              "  </thead>\n",
              "  <tbody>\n",
              "    <tr>\n",
              "      <th>0</th>\n",
              "      <td>320193</td>\n",
              "      <td>AAPL</td>\n",
              "      <td>Apple Inc.</td>\n",
              "    </tr>\n",
              "    <tr>\n",
              "      <th>0</th>\n",
              "      <td>789019</td>\n",
              "      <td>MSFT</td>\n",
              "      <td>MICROSOFT CORP</td>\n",
              "    </tr>\n",
              "    <tr>\n",
              "      <th>0</th>\n",
              "      <td>1067983</td>\n",
              "      <td>BRK-B</td>\n",
              "      <td>BERKSHIRE HATHAWAY INC</td>\n",
              "    </tr>\n",
              "    <tr>\n",
              "      <th>0</th>\n",
              "      <td>731766</td>\n",
              "      <td>UNH</td>\n",
              "      <td>UNITEDHEALTH GROUP INC</td>\n",
              "    </tr>\n",
              "    <tr>\n",
              "      <th>0</th>\n",
              "      <td>34088</td>\n",
              "      <td>XOM</td>\n",
              "      <td>EXXON MOBIL CORP</td>\n",
              "    </tr>\n",
              "  </tbody>\n",
              "</table>\n",
              "</div>\n",
              "      <button class=\"colab-df-convert\" onclick=\"convertToInteractive('df-1303b555-33e2-4717-b007-266622a14613')\"\n",
              "              title=\"Convert this dataframe to an interactive table.\"\n",
              "              style=\"display:none;\">\n",
              "        \n",
              "  <svg xmlns=\"http://www.w3.org/2000/svg\" height=\"24px\"viewBox=\"0 0 24 24\"\n",
              "       width=\"24px\">\n",
              "    <path d=\"M0 0h24v24H0V0z\" fill=\"none\"/>\n",
              "    <path d=\"M18.56 5.44l.94 2.06.94-2.06 2.06-.94-2.06-.94-.94-2.06-.94 2.06-2.06.94zm-11 1L8.5 8.5l.94-2.06 2.06-.94-2.06-.94L8.5 2.5l-.94 2.06-2.06.94zm10 10l.94 2.06.94-2.06 2.06-.94-2.06-.94-.94-2.06-.94 2.06-2.06.94z\"/><path d=\"M17.41 7.96l-1.37-1.37c-.4-.4-.92-.59-1.43-.59-.52 0-1.04.2-1.43.59L10.3 9.45l-7.72 7.72c-.78.78-.78 2.05 0 2.83L4 21.41c.39.39.9.59 1.41.59.51 0 1.02-.2 1.41-.59l7.78-7.78 2.81-2.81c.8-.78.8-2.07 0-2.86zM5.41 20L4 18.59l7.72-7.72 1.47 1.35L5.41 20z\"/>\n",
              "  </svg>\n",
              "      </button>\n",
              "      \n",
              "  <style>\n",
              "    .colab-df-container {\n",
              "      display:flex;\n",
              "      flex-wrap:wrap;\n",
              "      gap: 12px;\n",
              "    }\n",
              "\n",
              "    .colab-df-convert {\n",
              "      background-color: #E8F0FE;\n",
              "      border: none;\n",
              "      border-radius: 50%;\n",
              "      cursor: pointer;\n",
              "      display: none;\n",
              "      fill: #1967D2;\n",
              "      height: 32px;\n",
              "      padding: 0 0 0 0;\n",
              "      width: 32px;\n",
              "    }\n",
              "\n",
              "    .colab-df-convert:hover {\n",
              "      background-color: #E2EBFA;\n",
              "      box-shadow: 0px 1px 2px rgba(60, 64, 67, 0.3), 0px 1px 3px 1px rgba(60, 64, 67, 0.15);\n",
              "      fill: #174EA6;\n",
              "    }\n",
              "\n",
              "    [theme=dark] .colab-df-convert {\n",
              "      background-color: #3B4455;\n",
              "      fill: #D2E3FC;\n",
              "    }\n",
              "\n",
              "    [theme=dark] .colab-df-convert:hover {\n",
              "      background-color: #434B5C;\n",
              "      box-shadow: 0px 1px 3px 1px rgba(0, 0, 0, 0.15);\n",
              "      filter: drop-shadow(0px 1px 2px rgba(0, 0, 0, 0.3));\n",
              "      fill: #FFFFFF;\n",
              "    }\n",
              "  </style>\n",
              "\n",
              "      <script>\n",
              "        const buttonEl =\n",
              "          document.querySelector('#df-1303b555-33e2-4717-b007-266622a14613 button.colab-df-convert');\n",
              "        buttonEl.style.display =\n",
              "          google.colab.kernel.accessAllowed ? 'block' : 'none';\n",
              "\n",
              "        async function convertToInteractive(key) {\n",
              "          const element = document.querySelector('#df-1303b555-33e2-4717-b007-266622a14613');\n",
              "          const dataTable =\n",
              "            await google.colab.kernel.invokeFunction('convertToInteractive',\n",
              "                                                     [key], {});\n",
              "          if (!dataTable) return;\n",
              "\n",
              "          const docLinkHtml = 'Like what you see? Visit the ' +\n",
              "            '<a target=\"_blank\" href=https://colab.research.google.com/notebooks/data_table.ipynb>data table notebook</a>'\n",
              "            + ' to learn more about interactive tables.';\n",
              "          element.innerHTML = '';\n",
              "          dataTable['output_type'] = 'display_data';\n",
              "          await google.colab.output.renderOutput(dataTable, element);\n",
              "          const docLink = document.createElement('div');\n",
              "          docLink.innerHTML = docLinkHtml;\n",
              "          element.appendChild(docLink);\n",
              "        }\n",
              "      </script>\n",
              "    </div>\n",
              "  </div>\n",
              "  "
            ],
            "text/plain": [
              "       CIK Ticker                 Company\n",
              "0   320193   AAPL              Apple Inc.\n",
              "0   789019   MSFT          MICROSOFT CORP\n",
              "0  1067983  BRK-B  BERKSHIRE HATHAWAY INC\n",
              "0   731766    UNH  UNITEDHEALTH GROUP INC\n",
              "0    34088    XOM        EXXON MOBIL CORP"
            ]
          },
          "execution_count": 4,
          "metadata": {},
          "output_type": "execute_result"
        }
      ],
      "source": [
        "URL = 'https://www.sec.gov/files/company_tickers.json'\n",
        "response = requests.get(URL, headers = headers_list)\n",
        "data = response.json()\n",
        "\n",
        "Ticker_output = []\n",
        "for i in tqdm(data):\n",
        "  cik_str = data[i]['cik_str']\n",
        "  ticker = data[i]['ticker']\n",
        "  title = data[i]['title']\n",
        "  j = pd.DataFrame([cik_str, ticker, title]).T\n",
        "  Ticker_output.append(j)\n",
        "\n",
        "Ticker_output = pd.concat(Ticker_output)\n",
        "Ticker_output.columns = ['CIK', 'Ticker', 'Company']\n",
        "print(len(Ticker_output))\n",
        "\n",
        "Ticker_CIK_List = make_10_digits(list(Ticker_output['CIK']))\n",
        "Ticker_output.head()"
      ]
    },
    {
      "cell_type": "code",
      "execution_count": null,
      "metadata": {
        "id": "iwr5zKrUgsmJ"
      },
      "outputs": [],
      "source": [
        "def ExtractYF_BoD(Ticker):\n",
        "  data = []\n",
        "  URL = f'https://finance.yahoo.com/quote/{Ticker}/profile?p={Ticker}'\n",
        "  response = requests.get(URL, headers = headers_list)\n",
        "#   soup = BeautifulSoup(response.content, \"html.parser\")\n",
        "  soup = BeautifulSoup(response.content, \"lxml\")\n",
        "  table = soup.find('table', attrs={'class':'W(100%)'})\n",
        "  try:\n",
        "    table_body = table.find('tbody')\n",
        "    rows = table_body.find_all('tr')\n",
        "    for row in rows:\n",
        "      cols = row.find_all('td')\n",
        "      cols = [ele.text.strip() for ele in cols]\n",
        "      data.append([ele for ele in cols if ele]) # Get rid of empty values\n",
        "    return data\n",
        "  except:\n",
        "    pass"
      ]
    },
    {
      "cell_type": "code",
      "execution_count": null,
      "metadata": {
        "colab": {
          "background_save": true,
          "base_uri": "https://localhost:8080/"
        },
        "id": "HJD0JjdggsmJ",
        "outputId": "b0f8f533-cf07-413f-889f-a34eb6092bf4"
      },
      "outputs": [
        {
          "name": "stderr",
          "output_type": "stream",
          "text": [
            "100%|██████████| 1000/1000 [39:38<00:00,  2.38s/it]\n"
          ]
        },
        {
          "data": {
            "text/html": [
              "\n",
              "  <div id=\"df-43cad83b-9934-46c9-8d47-bba664179a2c\">\n",
              "    <div class=\"colab-df-container\">\n",
              "      <div>\n",
              "<style scoped>\n",
              "    .dataframe tbody tr th:only-of-type {\n",
              "        vertical-align: middle;\n",
              "    }\n",
              "\n",
              "    .dataframe tbody tr th {\n",
              "        vertical-align: top;\n",
              "    }\n",
              "\n",
              "    .dataframe thead th {\n",
              "        text-align: right;\n",
              "    }\n",
              "</style>\n",
              "<table border=\"1\" class=\"dataframe\">\n",
              "  <thead>\n",
              "    <tr style=\"text-align: right;\">\n",
              "      <th></th>\n",
              "      <th>0</th>\n",
              "      <th>1</th>\n",
              "      <th>2</th>\n",
              "      <th>3</th>\n",
              "      <th>4</th>\n",
              "      <th>Ticker</th>\n",
              "    </tr>\n",
              "  </thead>\n",
              "  <tbody>\n",
              "    <tr>\n",
              "      <th>0</th>\n",
              "      <td>Mr. Timothy D. Cook</td>\n",
              "      <td>CEO &amp; Director</td>\n",
              "      <td>16.39M</td>\n",
              "      <td>N/A</td>\n",
              "      <td>1961</td>\n",
              "      <td>AAPL</td>\n",
              "    </tr>\n",
              "    <tr>\n",
              "      <th>1</th>\n",
              "      <td>Mr. Luca  Maestri</td>\n",
              "      <td>CFO &amp; Sr. VP</td>\n",
              "      <td>5.02M</td>\n",
              "      <td>N/A</td>\n",
              "      <td>1964</td>\n",
              "      <td>AAPL</td>\n",
              "    </tr>\n",
              "    <tr>\n",
              "      <th>2</th>\n",
              "      <td>Mr. Jeffrey E. Williams</td>\n",
              "      <td>Chief Operating Officer</td>\n",
              "      <td>5.02M</td>\n",
              "      <td>N/A</td>\n",
              "      <td>1964</td>\n",
              "      <td>AAPL</td>\n",
              "    </tr>\n",
              "    <tr>\n",
              "      <th>3</th>\n",
              "      <td>Ms. Katherine L. Adams</td>\n",
              "      <td>Sr. VP, Gen. Counsel &amp; Sec.</td>\n",
              "      <td>5.01M</td>\n",
              "      <td>N/A</td>\n",
              "      <td>1964</td>\n",
              "      <td>AAPL</td>\n",
              "    </tr>\n",
              "    <tr>\n",
              "      <th>4</th>\n",
              "      <td>Ms. Deirdre  O'Brien</td>\n",
              "      <td>Sr. VP of People &amp; Retail</td>\n",
              "      <td>5.06M</td>\n",
              "      <td>N/A</td>\n",
              "      <td>1967</td>\n",
              "      <td>AAPL</td>\n",
              "    </tr>\n",
              "    <tr>\n",
              "      <th>...</th>\n",
              "      <td>...</td>\n",
              "      <td>...</td>\n",
              "      <td>...</td>\n",
              "      <td>...</td>\n",
              "      <td>...</td>\n",
              "      <td>...</td>\n",
              "    </tr>\n",
              "    <tr>\n",
              "      <th>5</th>\n",
              "      <td>Ms. Amber J. Sheridan</td>\n",
              "      <td>Sr. VP of HR</td>\n",
              "      <td>N/A</td>\n",
              "      <td>N/A</td>\n",
              "      <td>N/A</td>\n",
              "      <td>KNSL</td>\n",
              "    </tr>\n",
              "    <tr>\n",
              "      <th>6</th>\n",
              "      <td>Mr. Benjamin F. Pully</td>\n",
              "      <td>Sr. VP</td>\n",
              "      <td>N/A</td>\n",
              "      <td>N/A</td>\n",
              "      <td>N/A</td>\n",
              "      <td>KNSL</td>\n",
              "    </tr>\n",
              "    <tr>\n",
              "      <th>7</th>\n",
              "      <td>Mr. Clayton Warren Rhoades</td>\n",
              "      <td>Sr. VP</td>\n",
              "      <td>N/A</td>\n",
              "      <td>N/A</td>\n",
              "      <td>N/A</td>\n",
              "      <td>KNSL</td>\n",
              "    </tr>\n",
              "    <tr>\n",
              "      <th>8</th>\n",
              "      <td>Mr. Patrick L. Dalton</td>\n",
              "      <td>Sr. VP of Casualty</td>\n",
              "      <td>N/A</td>\n",
              "      <td>N/A</td>\n",
              "      <td>N/A</td>\n",
              "      <td>KNSL</td>\n",
              "    </tr>\n",
              "    <tr>\n",
              "      <th>9</th>\n",
              "      <td>Mr. Stuart P. Winston</td>\n",
              "      <td>Sr. VP Underwriting</td>\n",
              "      <td>N/A</td>\n",
              "      <td>N/A</td>\n",
              "      <td>N/A</td>\n",
              "      <td>KNSL</td>\n",
              "    </tr>\n",
              "  </tbody>\n",
              "</table>\n",
              "<p>9743 rows × 6 columns</p>\n",
              "</div>\n",
              "      <button class=\"colab-df-convert\" onclick=\"convertToInteractive('df-43cad83b-9934-46c9-8d47-bba664179a2c')\"\n",
              "              title=\"Convert this dataframe to an interactive table.\"\n",
              "              style=\"display:none;\">\n",
              "        \n",
              "  <svg xmlns=\"http://www.w3.org/2000/svg\" height=\"24px\"viewBox=\"0 0 24 24\"\n",
              "       width=\"24px\">\n",
              "    <path d=\"M0 0h24v24H0V0z\" fill=\"none\"/>\n",
              "    <path d=\"M18.56 5.44l.94 2.06.94-2.06 2.06-.94-2.06-.94-.94-2.06-.94 2.06-2.06.94zm-11 1L8.5 8.5l.94-2.06 2.06-.94-2.06-.94L8.5 2.5l-.94 2.06-2.06.94zm10 10l.94 2.06.94-2.06 2.06-.94-2.06-.94-.94-2.06-.94 2.06-2.06.94z\"/><path d=\"M17.41 7.96l-1.37-1.37c-.4-.4-.92-.59-1.43-.59-.52 0-1.04.2-1.43.59L10.3 9.45l-7.72 7.72c-.78.78-.78 2.05 0 2.83L4 21.41c.39.39.9.59 1.41.59.51 0 1.02-.2 1.41-.59l7.78-7.78 2.81-2.81c.8-.78.8-2.07 0-2.86zM5.41 20L4 18.59l7.72-7.72 1.47 1.35L5.41 20z\"/>\n",
              "  </svg>\n",
              "      </button>\n",
              "      \n",
              "  <style>\n",
              "    .colab-df-container {\n",
              "      display:flex;\n",
              "      flex-wrap:wrap;\n",
              "      gap: 12px;\n",
              "    }\n",
              "\n",
              "    .colab-df-convert {\n",
              "      background-color: #E8F0FE;\n",
              "      border: none;\n",
              "      border-radius: 50%;\n",
              "      cursor: pointer;\n",
              "      display: none;\n",
              "      fill: #1967D2;\n",
              "      height: 32px;\n",
              "      padding: 0 0 0 0;\n",
              "      width: 32px;\n",
              "    }\n",
              "\n",
              "    .colab-df-convert:hover {\n",
              "      background-color: #E2EBFA;\n",
              "      box-shadow: 0px 1px 2px rgba(60, 64, 67, 0.3), 0px 1px 3px 1px rgba(60, 64, 67, 0.15);\n",
              "      fill: #174EA6;\n",
              "    }\n",
              "\n",
              "    [theme=dark] .colab-df-convert {\n",
              "      background-color: #3B4455;\n",
              "      fill: #D2E3FC;\n",
              "    }\n",
              "\n",
              "    [theme=dark] .colab-df-convert:hover {\n",
              "      background-color: #434B5C;\n",
              "      box-shadow: 0px 1px 3px 1px rgba(0, 0, 0, 0.15);\n",
              "      filter: drop-shadow(0px 1px 2px rgba(0, 0, 0, 0.3));\n",
              "      fill: #FFFFFF;\n",
              "    }\n",
              "  </style>\n",
              "\n",
              "      <script>\n",
              "        const buttonEl =\n",
              "          document.querySelector('#df-43cad83b-9934-46c9-8d47-bba664179a2c button.colab-df-convert');\n",
              "        buttonEl.style.display =\n",
              "          google.colab.kernel.accessAllowed ? 'block' : 'none';\n",
              "\n",
              "        async function convertToInteractive(key) {\n",
              "          const element = document.querySelector('#df-43cad83b-9934-46c9-8d47-bba664179a2c');\n",
              "          const dataTable =\n",
              "            await google.colab.kernel.invokeFunction('convertToInteractive',\n",
              "                                                     [key], {});\n",
              "          if (!dataTable) return;\n",
              "\n",
              "          const docLinkHtml = 'Like what you see? Visit the ' +\n",
              "            '<a target=\"_blank\" href=https://colab.research.google.com/notebooks/data_table.ipynb>data table notebook</a>'\n",
              "            + ' to learn more about interactive tables.';\n",
              "          element.innerHTML = '';\n",
              "          dataTable['output_type'] = 'display_data';\n",
              "          await google.colab.output.renderOutput(dataTable, element);\n",
              "          const docLink = document.createElement('div');\n",
              "          docLink.innerHTML = docLinkHtml;\n",
              "          element.appendChild(docLink);\n",
              "        }\n",
              "      </script>\n",
              "    </div>\n",
              "  </div>\n",
              "  "
            ],
            "text/plain": [
              "                             0                            1       2    3  \\\n",
              "0          Mr. Timothy D. Cook               CEO & Director  16.39M  N/A   \n",
              "1            Mr. Luca  Maestri                 CFO & Sr. VP   5.02M  N/A   \n",
              "2      Mr. Jeffrey E. Williams      Chief Operating Officer   5.02M  N/A   \n",
              "3       Ms. Katherine L. Adams  Sr. VP, Gen. Counsel & Sec.   5.01M  N/A   \n",
              "4         Ms. Deirdre  O'Brien    Sr. VP of People & Retail   5.06M  N/A   \n",
              "..                         ...                          ...     ...  ...   \n",
              "5        Ms. Amber J. Sheridan                 Sr. VP of HR     N/A  N/A   \n",
              "6        Mr. Benjamin F. Pully                       Sr. VP     N/A  N/A   \n",
              "7   Mr. Clayton Warren Rhoades                       Sr. VP     N/A  N/A   \n",
              "8        Mr. Patrick L. Dalton           Sr. VP of Casualty     N/A  N/A   \n",
              "9        Mr. Stuart P. Winston          Sr. VP Underwriting     N/A  N/A   \n",
              "\n",
              "       4 Ticker  \n",
              "0   1961   AAPL  \n",
              "1   1964   AAPL  \n",
              "2   1964   AAPL  \n",
              "3   1964   AAPL  \n",
              "4   1967   AAPL  \n",
              "..   ...    ...  \n",
              "5    N/A   KNSL  \n",
              "6    N/A   KNSL  \n",
              "7    N/A   KNSL  \n",
              "8    N/A   KNSL  \n",
              "9    N/A   KNSL  \n",
              "\n",
              "[9743 rows x 6 columns]"
            ]
          },
          "execution_count": 6,
          "metadata": {},
          "output_type": "execute_result"
        }
      ],
      "source": [
        "YF_BoD1 = pd.DataFrame()\n",
        "j = 0\n",
        "for i in tqdm(Ticker_output['Ticker'][:1000]):\n",
        "  if j == 9:\n",
        "    Random_Agent()\n",
        "    df = pd.DataFrame(ExtractYF_BoD(i))\n",
        "    df['Ticker'] = i\n",
        "    YF_BoD1 = YF_BoD1.append(df)\n",
        "    j = 0\n",
        "  else:\n",
        "    df = pd.DataFrame(ExtractYF_BoD(i))\n",
        "    time.sleep(1)\n",
        "    df['Ticker'] = i\n",
        "    YF_BoD1 = YF_BoD1.append(df)\n",
        "  j+=1\n",
        "YF_BoD1"
      ]
    },
    {
      "cell_type": "code",
      "execution_count": null,
      "metadata": {
        "colab": {
          "background_save": true
        },
        "id": "H4UlWEhYgsmK"
      },
      "outputs": [],
      "source": [
        "time.sleep(60)"
      ]
    },
    {
      "cell_type": "code",
      "execution_count": null,
      "metadata": {
        "id": "zXBH2T9ZgsmK"
      },
      "outputs": [],
      "source": [
        "Random_Agent()\n",
        "YF_BoD2 = pd.DataFrame()\n",
        "j = 0\n",
        "for i in tqdm(Ticker_output['Ticker'][1000:2000]):\n",
        "  if j == 9:\n",
        "    Random_Agent()\n",
        "    df = pd.DataFrame(ExtractYF_BoD(i))\n",
        "    df['Ticker'] = i\n",
        "    YF_BoD2 = YF_BoD2.append(df)\n",
        "    j = 0\n",
        "  else:\n",
        "    df = pd.DataFrame(ExtractYF_BoD(i))\n",
        "    time.sleep(1)\n",
        "    df['Ticker'] = i\n",
        "    YF_BoD2 = YF_BoD2.append(df)\n",
        "  j+=1\n",
        "YF_BoD2"
      ]
    },
    {
      "cell_type": "code",
      "execution_count": null,
      "metadata": {
        "id": "87BhIIFggsmK"
      },
      "outputs": [],
      "source": [
        "time.sleep(60)"
      ]
    },
    {
      "cell_type": "code",
      "execution_count": null,
      "metadata": {
        "id": "AxZyHmeDgsmK"
      },
      "outputs": [],
      "source": [
        "Random_Agent()\n",
        "YF_BoD3 = pd.DataFrame()\n",
        "j = 0\n",
        "for i in tqdm(Ticker_output['Ticker'][2000:3000]):\n",
        "  if j == 9:\n",
        "    Random_Agent()\n",
        "    df = pd.DataFrame(ExtractYF_BoD(i))\n",
        "    df['Ticker'] = i\n",
        "    YF_BoD3 = YF_BoD3.append(df)\n",
        "    j = 0\n",
        "  else:\n",
        "    df = pd.DataFrame(ExtractYF_BoD(i))\n",
        "    time.sleep(1)\n",
        "    df['Ticker'] = i\n",
        "    YF_BoD3 = YF_BoD3.append(df)\n",
        "  j+=1\n",
        "YF_BoD3"
      ]
    },
    {
      "cell_type": "code",
      "execution_count": null,
      "metadata": {
        "id": "vr6PzOQvgsmL"
      },
      "outputs": [],
      "source": [
        "time.sleep(60)"
      ]
    },
    {
      "cell_type": "code",
      "execution_count": null,
      "metadata": {
        "id": "7Qr2KjxAgsmL"
      },
      "outputs": [],
      "source": [
        "Random_Agent()\n",
        "YF_BoD4 = pd.DataFrame()\n",
        "j = 0\n",
        "for i in tqdm(Ticker_output['Ticker'][3000:4000]):\n",
        "  if j == 9:\n",
        "    Random_Agent()\n",
        "    df = pd.DataFrame(ExtractYF_BoD(i))\n",
        "    df['Ticker'] = i\n",
        "    YF_BoD4 = YF_BoD4.append(df)\n",
        "    j = 0\n",
        "  else:\n",
        "    df = pd.DataFrame(ExtractYF_BoD(i))\n",
        "    time.sleep(1)\n",
        "    df['Ticker'] = i\n",
        "    YF_BoD4 = YF_BoD4.append(df)\n",
        "  j+=1\n",
        "YF_BoD4"
      ]
    },
    {
      "cell_type": "code",
      "execution_count": null,
      "metadata": {
        "id": "nnty1Sg_gsmL"
      },
      "outputs": [],
      "source": [
        "time.sleep(60)"
      ]
    },
    {
      "cell_type": "code",
      "execution_count": null,
      "metadata": {
        "id": "--uJzwX0gsmL"
      },
      "outputs": [],
      "source": [
        "Random_Agent()\n",
        "YF_BoD5 = pd.DataFrame()\n",
        "j = 0\n",
        "for i in tqdm(Ticker_output['Ticker'][4000:5000]):\n",
        "  if j == 9:\n",
        "    Random_Agent()\n",
        "    df = pd.DataFrame(ExtractYF_BoD(i))\n",
        "    df['Ticker'] = i\n",
        "    YF_BoD5 = YF_BoD5.append(df)\n",
        "    j = 0\n",
        "  else:\n",
        "    df = pd.DataFrame(ExtractYF_BoD(i))\n",
        "    time.sleep(1)\n",
        "    df['Ticker'] = i\n",
        "    YF_BoD5 = YF_BoD5.append(df)\n",
        "  j+=1\n",
        "YF_BoD5"
      ]
    },
    {
      "cell_type": "code",
      "execution_count": null,
      "metadata": {
        "id": "IwEy9xn1gsmL"
      },
      "outputs": [],
      "source": [
        "time.sleep(60)"
      ]
    },
    {
      "cell_type": "code",
      "execution_count": null,
      "metadata": {
        "id": "dsmh3kyvgsmL"
      },
      "outputs": [],
      "source": [
        "Random_Agent()\n",
        "YF_BoD6 = pd.DataFrame()\n",
        "j = 0\n",
        "for i in tqdm(Ticker_output['Ticker'][5000:6000]):\n",
        "  if j == 9:\n",
        "    Random_Agent()\n",
        "    df = pd.DataFrame(ExtractYF_BoD(i))\n",
        "    df['Ticker'] = i\n",
        "    YF_BoD6 = YF_BoD6.append(df)\n",
        "    j = 0\n",
        "  else:\n",
        "    df = pd.DataFrame(ExtractYF_BoD(i))\n",
        "    time.sleep(1)\n",
        "    df['Ticker'] = i\n",
        "    YF_BoD6 = YF_BoD6.append(df)\n",
        "  j+=1\n",
        "YF_BoD6"
      ]
    },
    {
      "cell_type": "code",
      "execution_count": null,
      "metadata": {
        "id": "hbJ-bouKgsmL"
      },
      "outputs": [],
      "source": [
        "time.sleep(60)"
      ]
    },
    {
      "cell_type": "code",
      "execution_count": null,
      "metadata": {
        "id": "BsMg_k_ZgsmM"
      },
      "outputs": [],
      "source": [
        "Random_Agent()\n",
        "YF_BoD7 = pd.DataFrame()\n",
        "j = 0\n",
        "for i in tqdm(Ticker_output['Ticker'][6000:7000]):\n",
        "  if j == 9:\n",
        "    Random_Agent()\n",
        "    df = pd.DataFrame(ExtractYF_BoD(i))\n",
        "    df['Ticker'] = i\n",
        "    YF_BoD7 = YF_BoD7.append(df)\n",
        "    j = 0\n",
        "  else:\n",
        "    df = pd.DataFrame(ExtractYF_BoD(i))\n",
        "    time.sleep(1)\n",
        "    df['Ticker'] = i\n",
        "    YF_BoD7 = YF_BoD7.append(df)\n",
        "  j+=1\n",
        "YF_BoD7"
      ]
    },
    {
      "cell_type": "code",
      "execution_count": null,
      "metadata": {
        "id": "gC6CpckEgsmM"
      },
      "outputs": [],
      "source": [
        "time.sleep(60)"
      ]
    },
    {
      "cell_type": "code",
      "execution_count": null,
      "metadata": {
        "id": "6QikddRzgsmM"
      },
      "outputs": [],
      "source": [
        "Random_Agent()\n",
        "YF_BoD8 = pd.DataFrame()\n",
        "j = 0\n",
        "for i in tqdm(Ticker_output['Ticker'][7000:8000]):\n",
        "  if j == 9:\n",
        "    Random_Agent()\n",
        "    df = pd.DataFrame(ExtractYF_BoD(i))\n",
        "    df['Ticker'] = i\n",
        "    YF_BoD8 = YF_BoD8.append(df)\n",
        "    j = 0\n",
        "  else:\n",
        "    df = pd.DataFrame(ExtractYF_BoD(i))\n",
        "    time.sleep(1)\n",
        "    df['Ticker'] = i\n",
        "    YF_BoD8 = YF_BoD8.append(df)\n",
        "  j+=1\n",
        "YF_BoD8"
      ]
    },
    {
      "cell_type": "code",
      "execution_count": null,
      "metadata": {
        "id": "PU67StUqgsmM"
      },
      "outputs": [],
      "source": [
        "time.sleep(60)"
      ]
    },
    {
      "cell_type": "code",
      "execution_count": null,
      "metadata": {
        "id": "jjzHfvbjgsmM"
      },
      "outputs": [],
      "source": [
        "Random_Agent()\n",
        "YF_BoD9 = pd.DataFrame()\n",
        "j = 0\n",
        "for i in tqdm(Ticker_output['Ticker'][8000:9000]):\n",
        "  if j == 9:\n",
        "    Random_Agent()\n",
        "    df = pd.DataFrame(ExtractYF_BoD(i))\n",
        "    df['Ticker'] = i\n",
        "    YF_BoD9 = YF_BoD9.append(df)\n",
        "    j = 0\n",
        "  else:\n",
        "    df = pd.DataFrame(ExtractYF_BoD(i))\n",
        "    time.sleep(1)\n",
        "    df['Ticker'] = i\n",
        "    YF_BoD9 = YF_BoD9.append(df)\n",
        "  j+=1\n",
        "YF_BoD9"
      ]
    },
    {
      "cell_type": "code",
      "execution_count": null,
      "metadata": {
        "id": "zaH9Y74YgsmM"
      },
      "outputs": [],
      "source": [
        "time.sleep(60)"
      ]
    },
    {
      "cell_type": "code",
      "execution_count": null,
      "metadata": {
        "id": "NMOuDSjigsmM"
      },
      "outputs": [],
      "source": [
        "Random_Agent()\n",
        "YF_BoD10 = pd.DataFrame()\n",
        "j = 0\n",
        "for i in tqdm(Ticker_output['Ticker'][9000:10000]):\n",
        "  if j == 9:\n",
        "    Random_Agent()\n",
        "    df = pd.DataFrame(ExtractYF_BoD(i))\n",
        "    df['Ticker'] = i\n",
        "    YF_BoD10 = YF_BoD10.append(df)\n",
        "    j = 0\n",
        "  else:\n",
        "    df = pd.DataFrame(ExtractYF_BoD(i))\n",
        "    time.sleep(1)\n",
        "    df['Ticker'] = i\n",
        "    YF_BoD10 = YF_BoD10.append(df)\n",
        "  j+=1\n",
        "YF_BoD10"
      ]
    },
    {
      "cell_type": "code",
      "execution_count": null,
      "metadata": {
        "id": "Tma-I8kzgsmM"
      },
      "outputs": [],
      "source": [
        "time.sleep(60)"
      ]
    },
    {
      "cell_type": "code",
      "execution_count": null,
      "metadata": {
        "id": "5LkCuQtzgsmN"
      },
      "outputs": [],
      "source": [
        "Random_Agent()\n",
        "YF_BoD11 = pd.DataFrame()\n",
        "j = 0\n",
        "for i in tqdm(Ticker_output['Ticker'][10000:]):\n",
        "  if j == 9:\n",
        "    Random_Agent()\n",
        "    df = pd.DataFrame(ExtractYF_BoD(i))\n",
        "    df['Ticker'] = i\n",
        "    YF_BoD11 = YF_BoD11.append(df)\n",
        "    j = 0\n",
        "  else:\n",
        "    df = pd.DataFrame(ExtractYF_BoD(i))\n",
        "    time.sleep(1)\n",
        "    df['Ticker'] = i\n",
        "    YF_BoD11 = YF_BoD11.append(df)\n",
        "  j+=1\n",
        "YF_BoD11"
      ]
    },
    {
      "cell_type": "code",
      "execution_count": null,
      "metadata": {
        "id": "Iz3Xw7yggsmN",
        "outputId": "ce88ccf4-01cc-42c5-ecb9-32a9ff3920b2"
      },
      "outputs": [
        {
          "data": {
            "text/html": [
              "<style scoped>\n  .ansiout {\n    display: block;\n    unicode-bidi: embed;\n    white-space: pre-wrap;\n    word-wrap: break-word;\n    word-break: break-all;\n    font-family: \"Source Code Pro\", \"Menlo\", monospace;;\n    font-size: 13px;\n    color: #555;\n    margin-left: 4px;\n    line-height: 19px;\n  }\n</style>\n<div class=\"ansiout\"></div>"
            ]
          },
          "metadata": {},
          "output_type": "display_data"
        }
      ],
      "source": [
        "print(len(Ticker_output['Ticker'].drop_duplicates()))\n",
        "print(len(YF_BoD1['Ticker'].drop_duplicates()))\n",
        "print(len(YF_BoD2['Ticker'].drop_duplicates()))\n",
        "print(len(YF_BoD3['Ticker'].drop_duplicates()))\n",
        "print(len(YF_BoD4['Ticker'].drop_duplicates()))\n",
        "print(len(YF_BoD5['Ticker'].drop_duplicates()))\n",
        "print(len(YF_BoD6['Ticker'].drop_duplicates()))\n",
        "print(len(YF_BoD7['Ticker'].drop_duplicates()))\n",
        "print(len(YF_BoD8['Ticker'].drop_duplicates()))\n",
        "print(len(YF_BoD9['Ticker'].drop_duplicates()))\n",
        "print(len(YF_BoD10['Ticker'].drop_duplicates()))\n",
        "print(len(YF_BoD11['Ticker'].drop_duplicates()))"
      ]
    },
    {
      "cell_type": "code",
      "execution_count": null,
      "metadata": {
        "id": "N6JL6UQtgsmN",
        "outputId": "de1e51cb-ce44-4ac3-fa06-44e6f28dc5c3"
      },
      "outputs": [
        {
          "data": {
            "text/html": [
              "<style scoped>\n  .ansiout {\n    display: block;\n    unicode-bidi: embed;\n    white-space: pre-wrap;\n    word-wrap: break-word;\n    word-break: break-all;\n    font-family: \"Source Code Pro\", \"Menlo\", monospace;;\n    font-size: 13px;\n    color: #555;\n    margin-left: 4px;\n    line-height: 19px;\n  }\n</style>\n<div class=\"ansiout\"></div>"
            ]
          },
          "metadata": {},
          "output_type": "display_data"
        },
        {
          "data": {
            "text/html": [
              "<style scoped>\n  .ansiout {\n    display: block;\n    unicode-bidi: embed;\n    white-space: pre-wrap;\n    word-wrap: break-word;\n    word-break: break-all;\n    font-family: \"Source Code Pro\", \"Menlo\", monospace;;\n    font-size: 13px;\n    color: #555;\n    margin-left: 4px;\n    line-height: 19px;\n  }\n</style>\n<div class=\"ansiout\"></div>"
            ]
          },
          "metadata": {},
          "output_type": "display_data"
        }
      ],
      "source": [
        "YF_BoD = pd.concat([YF_BoD1, YF_BoD2, YF_BoD3, YF_BoD4, YF_BoD5, YF_BoD6, YF_BoD7, YF_BoD8, YF_BoD9, YF_BoD10, YF_BoD11]).drop_duplicates()\n",
        "print(len(YF_BoD))\n",
        "print(len(YF_BoD['Ticker'].drop_duplicates()))\n",
        "\n",
        "YF_BoD = YF_BoD[YF_BoD[5].isna()]\n",
        "YF_BoD.columns = ['Name', 'Title', 'Pay', 'Exercised', 'Year Born', 'Ticker','Blank']\n",
        "YF_BoD = YF_BoD[['Ticker', 'Name', 'Title', 'Pay', 'Exercised', 'Year Born']]\n",
        "print(len(YF_BoD))\n",
        "print(len(YF_BoD['Ticker'].drop_duplicates()))\n",
        "YF_BoD.head(10)"
      ]
    },
    {
      "cell_type": "code",
      "execution_count": null,
      "metadata": {
        "id": "o0O1N1vngsmN",
        "outputId": "1b50a9b8-961d-420b-cae5-9f8c9552adb1"
      },
      "outputs": [
        {
          "data": {
            "text/html": [
              "<style scoped>\n  .ansiout {\n    display: block;\n    unicode-bidi: embed;\n    white-space: pre-wrap;\n    word-wrap: break-word;\n    word-break: break-all;\n    font-family: \"Source Code Pro\", \"Menlo\", monospace;;\n    font-size: 13px;\n    color: #555;\n    margin-left: 4px;\n    line-height: 19px;\n  }\n</style>\n<div class=\"ansiout\">WARNING:root:Found pyspark version &#34;3.2.1&#34; installed. The pyspark version 3.2 and above has a built-in &#34;pandas APIs on Spark&#34; module ported from Koalas. Try `import pyspark.pandas as ps` instead. \n[nltk_data] Downloading package stopwords to /root/nltk_data...\n[nltk_data]   Unzipping corpora/stopwords.zip.\n</div>"
            ]
          },
          "metadata": {},
          "output_type": "display_data"
        },
        {
          "data": {
            "text/html": [
              "<style scoped>\n  .ansiout {\n    display: block;\n    unicode-bidi: embed;\n    white-space: pre-wrap;\n    word-wrap: break-word;\n    word-break: break-all;\n    font-family: \"Source Code Pro\", \"Menlo\", monospace;;\n    font-size: 13px;\n    color: #555;\n    margin-left: 4px;\n    line-height: 19px;\n  }\n</style>\n<div class=\"ansiout\"></div>"
            ]
          },
          "metadata": {},
          "output_type": "display_data"
        },
        {
          "data": {
            "text/html": [
              "<style scoped>\n  .ansiout {\n    display: block;\n    unicode-bidi: embed;\n    white-space: pre-wrap;\n    word-wrap: break-word;\n    word-break: break-all;\n    font-family: \"Source Code Pro\", \"Menlo\", monospace;;\n    font-size: 13px;\n    color: #555;\n    margin-left: 4px;\n    line-height: 19px;\n  }\n</style>\n<div class=\"ansiout\"></div>"
            ]
          },
          "metadata": {},
          "output_type": "display_data"
        },
        {
          "data": {
            "text/html": [
              "<style scoped>\n  .ansiout {\n    display: block;\n    unicode-bidi: embed;\n    white-space: pre-wrap;\n    word-wrap: break-word;\n    word-break: break-all;\n    font-family: \"Source Code Pro\", \"Menlo\", monospace;;\n    font-size: 13px;\n    color: #555;\n    margin-left: 4px;\n    line-height: 19px;\n  }\n</style>\n<div class=\"ansiout\">Out[8]: {&#39;Access-Control-Allow-Origin&#39;: &#39;*&#39;,\n &#39;Access-Control-Allow-Methods&#39;: &#39;GET&#39;,\n &#39;Access-Control-Allow-Headers&#39;: &#39;Content-Type&#39;,\n &#39;Access-Control-Max-Age&#39;: &#39;3600&#39;,\n &#39;User-Agent&#39;: &#39;Mozilla/5.0 (Windows NT 6.3; WOW64; Trident/7.0; rv:11.0) like Gecko&#39;}</div>"
            ]
          },
          "metadata": {},
          "output_type": "display_data"
        }
      ],
      "source": [
        "s3 = boto3.resource('s3')\n",
        "WriteS3(bucketname = 'databricks-keb-shard', filepath = 'apis/yahoo_finance', filename = f'YF_BoardOfDirectors.csv', df = YF_BoD)\n",
        "# WriteS3(bucketname = 'cb-data-exchange-cbmst-np' , filepath = 'leed_sources/apis', filename = f'YF_BoardOfDirectors.csv', df = YF_BoD)"
      ]
    }
  ],
  "metadata": {
    "application/vnd.databricks.v1+notebook": {
      "dashboards": [],
      "language": "python",
      "notebookMetadata": {
        "pythonIndentUnit": 4
      },
      "notebookName": "Board of Directors - Yahoo Finance API",
      "notebookOrigID": 2553040978478154,
      "widgets": {}
    },
    "colab": {
      "provenance": []
    },
    "gpuClass": "standard",
    "kernelspec": {
      "display_name": "Python 3",
      "name": "python3"
    },
    "language_info": {
      "name": "python"
    }
  },
  "nbformat": 4,
  "nbformat_minor": 0
}