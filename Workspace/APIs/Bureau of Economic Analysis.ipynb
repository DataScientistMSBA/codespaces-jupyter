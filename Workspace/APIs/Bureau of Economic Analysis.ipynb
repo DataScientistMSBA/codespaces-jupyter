{
 "cells": [
  {
   "attachments": {},
   "cell_type": "markdown",
   "metadata": {},
   "source": [
    "# PreLoads"
   ]
  },
  {
   "cell_type": "code",
   "execution_count": 4,
   "metadata": {},
   "outputs": [],
   "source": [
    "%run /workspaces/codespaces-jupyter/Workspace/References/PreLoads.ipynb"
   ]
  },
  {
   "cell_type": "code",
   "execution_count": 8,
   "metadata": {},
   "outputs": [
    {
     "name": "stdout",
     "output_type": "stream",
     "text": [
      "API key loaded\n"
     ]
    }
   ],
   "source": [
    "fileObject = open(\"/workspaces/codespaces-jupyter/Workspace/Security/Passwords.txt\", \"r\", encoding='utf-8-sig')\n",
    "data = fileObject.read()\n",
    "data = json.loads(data)\n",
    "BEA_APIKey = data['BEA']['key']\n",
    "print('API key loaded')"
   ]
  },
  {
   "attachments": {},
   "cell_type": "markdown",
   "metadata": {},
   "source": [
    "# Main"
   ]
  },
  {
   "cell_type": "code",
   "execution_count": null,
   "metadata": {},
   "outputs": [],
   "source": [
    " import requests\n",
    "import json\n",
    "\n",
    "# Replace API_KEY with your BEA API key\n",
    "API_KEY = 'YOUR_API_KEY'\n",
    "\n",
    "# Set the API endpoint URL and parameters\n",
    "url = 'https://apps.bea.gov/api/data/'\n",
    "params = {\n",
    "    'UserID': API_KEY,\n",
    "    'method': 'GetData',\n",
    "    'datasetname': 'Regional',\n",
    "    'TableName': 'CA1',\n",
    "    'LineCode': '3',\n",
    "    'GeoFips': 'STATE',\n",
    "    'Year': '2019',\n",
    "    'ResultFormat': 'JSON'\n",
    "}\n",
    "\n",
    "# Make the request and get the response\n",
    "response = requests.get(url, params=params)\n",
    "\n",
    "# Print the response content as JSON\n",
    "print(json.dumps(response.json(), indent=4))\n"
   ]
  },
  {
   "cell_type": "code",
   "execution_count": 19,
   "metadata": {},
   "outputs": [
    {
     "name": "stdout",
     "output_type": "stream",
     "text": [
      "{\n",
      "    \"BEAAPI\": {\n",
      "        \"Request\": {\n",
      "            \"RequestParam\": [\n",
      "                {\n",
      "                    \"ParameterName\": \"USERID\",\n",
      "                    \"ParameterValue\": \"537B6461-BA2D-4B37-AA03-8832C1720E20\"\n",
      "                },\n",
      "                {\n",
      "                    \"ParameterName\": \"METHOD\",\n",
      "                    \"ParameterValue\": \"GETDATA\"\n",
      "                },\n",
      "                {\n",
      "                    \"ParameterName\": \"DATASETNAME\",\n",
      "                    \"ParameterValue\": \"REGIONAL\"\n",
      "                },\n",
      "                {\n",
      "                    \"ParameterName\": \"TABLENAME\",\n",
      "                    \"ParameterValue\": \"CA1\"\n",
      "                },\n",
      "                {\n",
      "                    \"ParameterName\": \"LINECODE\",\n",
      "                    \"ParameterValue\": \"3\"\n",
      "                },\n",
      "                {\n",
      "                    \"ParameterName\": \"GEOFIPS\",\n",
      "                    \"ParameterValue\": \"STATE\"\n",
      "                },\n",
      "                {\n",
      "                    \"ParameterName\": \"YEAR\",\n",
      "                    \"ParameterValue\": \"2019\"\n",
      "                },\n",
      "                {\n",
      "                    \"ParameterName\": \"RESULTFORMAT\",\n",
      "                    \"ParameterValue\": \"JSON\"\n",
      "                }\n",
      "            ]\n",
      "        },\n",
      "        \"Error\": {\n",
      "            \"APIErrorCode\": \"40\",\n",
      "            \"APIErrorDescription\": \"The dataset requested requires parameters that were missing from the request.\",\n",
      "            \"ErrorDetail\": {\n",
      "                \"Description\": \"Invalid Value for Parameter TableName\"\n",
      "            }\n",
      "        }\n",
      "    }\n",
      "}\n"
     ]
    }
   ],
   "source": [
    "# Set the API endpoint URL and parameters\n",
    "url = 'https://apps.bea.gov/api/data/'\n",
    "params = {\n",
    "    'UserID': BEA_APIKey,\n",
    "    'method': 'GetData',\n",
    "    'datasetname': 'Regional',\n",
    "    'TableName': 'CA1',\n",
    "    'LineCode': '3',\n",
    "    'GeoFips': 'STATE',\n",
    "    'Year': '2019',\n",
    "    'ResultFormat': 'JSON'\n",
    "}\n",
    "\n",
    "# Make the request and get the response\n",
    "response = requests.get(url, params=params)\n",
    "\n",
    "# Print the response content as JSON\n",
    "print(json.dumps(response.json(), indent=4))\n"
   ]
  },
  {
   "cell_type": "code",
   "execution_count": 65,
   "metadata": {},
   "outputs": [
    {
     "data": {
      "text/html": [
       "<div>\n",
       "<style scoped>\n",
       "    .dataframe tbody tr th:only-of-type {\n",
       "        vertical-align: middle;\n",
       "    }\n",
       "\n",
       "    .dataframe tbody tr th {\n",
       "        vertical-align: top;\n",
       "    }\n",
       "\n",
       "    .dataframe thead th {\n",
       "        text-align: right;\n",
       "    }\n",
       "</style>\n",
       "<table border=\"1\" class=\"dataframe\">\n",
       "  <thead>\n",
       "    <tr style=\"text-align: right;\">\n",
       "      <th></th>\n",
       "      <th>Year</th>\n",
       "      <th>Description</th>\n",
       "      <th>GDP</th>\n",
       "    </tr>\n",
       "  </thead>\n",
       "  <tbody>\n",
       "    <tr>\n",
       "      <th>0</th>\n",
       "      <td>2020</td>\n",
       "      <td>Gross domestic product</td>\n",
       "      <td>-2.8</td>\n",
       "    </tr>\n",
       "    <tr>\n",
       "      <th>1</th>\n",
       "      <td>2020</td>\n",
       "      <td>Exports</td>\n",
       "      <td>-13.2</td>\n",
       "    </tr>\n",
       "    <tr>\n",
       "      <th>2</th>\n",
       "      <td>2020</td>\n",
       "      <td>Intellectual property products</td>\n",
       "      <td>4.8</td>\n",
       "    </tr>\n",
       "    <tr>\n",
       "      <th>3</th>\n",
       "      <td>2020</td>\n",
       "      <td>Goods</td>\n",
       "      <td>-10.1</td>\n",
       "    </tr>\n",
       "    <tr>\n",
       "      <th>4</th>\n",
       "      <td>2020</td>\n",
       "      <td>Equipment</td>\n",
       "      <td>-10.5</td>\n",
       "    </tr>\n",
       "    <tr>\n",
       "      <th>5</th>\n",
       "      <td>2020</td>\n",
       "      <td>Services</td>\n",
       "      <td>-18.8</td>\n",
       "    </tr>\n",
       "    <tr>\n",
       "      <th>6</th>\n",
       "      <td>2020</td>\n",
       "      <td>Structures</td>\n",
       "      <td>-10.1</td>\n",
       "    </tr>\n",
       "    <tr>\n",
       "      <th>7</th>\n",
       "      <td>2020</td>\n",
       "      <td>Imports</td>\n",
       "      <td>-9.0</td>\n",
       "    </tr>\n",
       "    <tr>\n",
       "      <th>8</th>\n",
       "      <td>2020</td>\n",
       "      <td>Nonresidential</td>\n",
       "      <td>-4.9</td>\n",
       "    </tr>\n",
       "    <tr>\n",
       "      <th>9</th>\n",
       "      <td>2020</td>\n",
       "      <td>Goods</td>\n",
       "      <td>-5.8</td>\n",
       "    </tr>\n",
       "  </tbody>\n",
       "</table>\n",
       "</div>"
      ],
      "text/plain": [
       "   Year                     Description   GDP\n",
       "0  2020          Gross domestic product  -2.8\n",
       "1  2020                         Exports -13.2\n",
       "2  2020  Intellectual property products   4.8\n",
       "3  2020                           Goods -10.1\n",
       "4  2020                       Equipment -10.5\n",
       "5  2020                        Services -18.8\n",
       "6  2020                      Structures -10.1\n",
       "7  2020                         Imports  -9.0\n",
       "8  2020                  Nonresidential  -4.9\n",
       "9  2020                           Goods  -5.8"
      ]
     },
     "execution_count": 65,
     "metadata": {},
     "output_type": "execute_result"
    }
   ],
   "source": [
    "# Set the API endpoint URL and parameters\n",
    "url = 'https://apps.bea.gov/api/data/'\n",
    "params = {\n",
    "    'UserID': BEA_APIKey,\n",
    "    'method': 'GetData',\n",
    "    'datasetname': 'NIPA',\n",
    "    'TableName': 'T10101',\n",
    "    'Frequency': 'A',\n",
    "    'ResultFormat': 'JSON',\n",
    "    'Year': YearSelection}\n",
    "\n",
    "response = requests.get(url, params=params) # Make the request and get the response\n",
    "data = response.json()['BEAAPI']['Results']['Data'] # Extract the data from the response\n",
    "df = pd.DataFrame(data) # Convert the data to a pandas DataFrame\n",
    "\n",
    "# Clean up the DataFrame\n",
    "df = df[['TimePeriod', 'LineDescription', 'DataValue']].rename(columns={'TimePeriod': 'Year', 'DataValue': 'GDP', 'LineDescription': 'Description'}).set_index('Year')\n",
    "df['GDP'] = df['GDP'].astype(float) # Convert the GDP values to float\n",
    "df = pd.DataFrame(df.sort_values('Year').reset_index()) # Reset index\n",
    "df.head(10)"
   ]
  },
  {
   "cell_type": "code",
   "execution_count": 60,
   "metadata": {},
   "outputs": [],
   "source": [
    "pd.options.display.max_rows = 999"
   ]
  },
  {
   "cell_type": "code",
   "execution_count": 59,
   "metadata": {},
   "outputs": [
    {
     "data": {
      "text/plain": [
       "pandas.core.frame.DataFrame"
      ]
     },
     "execution_count": 59,
     "metadata": {},
     "output_type": "execute_result"
    }
   ],
   "source": [
    "type(df)"
   ]
  },
  {
   "cell_type": "code",
   "execution_count": 76,
   "metadata": {},
   "outputs": [
    {
     "data": {
      "text/plain": [
       "{'Request': {'RequestParam': [{'@ParameterName': 'USERID',\n",
       "    '@ParameterValue': '537B6461-BA2D-4B37-AA03-8832C1720E20'},\n",
       "   {'@ParameterName': 'METHOD', '@ParameterValue': 'GETDATA'},\n",
       "   {'@ParameterName': 'DATASETNAME', '@ParameterValue': 'REGIONAL'},\n",
       "   {'@ParameterName': 'TABLENAME', '@ParameterValue': 'CA5'},\n",
       "   {'@ParameterName': 'LINECODE', '@ParameterValue': '3'},\n",
       "   {'@ParameterName': 'GEOFIPS', '@ParameterValue': 'STATE'},\n",
       "   {'@ParameterName': 'GEONAME', '@ParameterValue': 'UNITED STATES'},\n",
       "   {'@ParameterName': 'YEAR', '@ParameterValue': 'ALL'},\n",
       "   {'@ParameterName': 'RESULTFORMAT', '@ParameterValue': 'JSON'},\n",
       "   {'@ParameterName': 'DESCRIPTION',\n",
       "    '@ParameterValue': 'GROSS DOMESTIC PRODUCT GDP, MILLIONS OF DOLLARS, SEASONALLY ADJUSTED...[MODIFIED TO PREVENT CROSS-SITE SCRIPTING]'},\n",
       "   {'@ParameterName': 'CorrelationID',\n",
       "    '@ParameterValue': '20b9b58f-70b3-4629-91a7-4215f78d57b9'}]},\n",
       " 'Results': {'Error': {'@APIErrorCode': '1',\n",
       "   '@APIErrorDescription': 'Invalid Request - Invalid Parameters.'}}}"
      ]
     },
     "execution_count": 76,
     "metadata": {},
     "output_type": "execute_result"
    }
   ],
   "source": [
    "\n",
    "# Set the API endpoint URL and parameters\n",
    "url = 'https://apps.bea.gov/api/data/'\n",
    "params = {\n",
    "    'UserID': BEA_APIKey,\n",
    "    'method': 'GetData',\n",
    "    'datasetname': 'Regional',\n",
    "    'TableName': 'CA5',\n",
    "    'LineCode': '3',\n",
    "    'GeoFIPS': 'STATE',\n",
    "    'GeoName': 'UNITED STATES',\n",
    "    'Year': 'ALL',\n",
    "    'ResultFormat': 'JSON',\n",
    "    'Description': 'Gross Domestic Product (GDP), millions of dollars, seasonally adjusted',\n",
    "}\n",
    "\n",
    "# Make the request and get the response\n",
    "response = requests.get(url, params=params)\n",
    "\n",
    "# Extract the data from the response\n",
    "data = response.json()['BEAAPI']#['Results']['Data']\n",
    "data\n",
    "# # Convert the data to a pandas DataFrame\n",
    "# df = pd.DataFrame(data)\n",
    "\n",
    "# # Clean up the DataFrame\n",
    "# df = df[['TimePeriod', 'DataValue']]\n",
    "# df = df.rename(columns={'TimePeriod': 'Year', 'DataValue': 'Personal Income'})\n",
    "# df = df.set_index('Year')\n",
    "\n",
    "# # Convert the Personal Income values to float\n",
    "# df['Personal Income'] = df['Personal Income'].astype(float)\n",
    "# df"
   ]
  },
  {
   "cell_type": "code",
   "execution_count": null,
   "metadata": {},
   "outputs": [],
   "source": []
  },
  {
   "cell_type": "code",
   "execution_count": null,
   "metadata": {},
   "outputs": [],
   "source": []
  }
 ],
 "metadata": {
  "kernelspec": {
   "display_name": "Python 3",
   "language": "python",
   "name": "python3"
  },
  "language_info": {
   "codemirror_mode": {
    "name": "ipython",
    "version": 3
   },
   "file_extension": ".py",
   "mimetype": "text/x-python",
   "name": "python",
   "nbconvert_exporter": "python",
   "pygments_lexer": "ipython3",
   "version": "3.10.4"
  },
  "orig_nbformat": 4,
  "vscode": {
   "interpreter": {
    "hash": "3ad933181bd8a04b432d3370b9dc3b0662ad032c4dfaa4e4f1596c548f763858"
   }
  }
 },
 "nbformat": 4,
 "nbformat_minor": 2
}
